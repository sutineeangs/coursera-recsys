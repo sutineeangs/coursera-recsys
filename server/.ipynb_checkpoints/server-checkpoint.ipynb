{
 "cells": [
  {
   "cell_type": "code",
   "execution_count": 63,
   "id": "surgical-trade",
   "metadata": {},
   "outputs": [],
   "source": [
    "from flask import Flask, request, jsonify\n",
    "from flask_cors import CORS\n",
    "import recsys_v1"
   ]
  },
  {
   "cell_type": "code",
   "execution_count": 57,
   "id": "altered-membership",
   "metadata": {},
   "outputs": [],
   "source": [
    "data = [\n",
    "    {\n",
    "        \"id\": 1,\n",
    "        \"frameworks\": \"Django\",\n",
    "        \"year\": 2005\n",
    "    },\n",
    "    {\n",
    "        \"id\": 2,\n",
    "        \"frameworks\": \"Flask\",\n",
    "        \"year\": 2010\n",
    "    },\n",
    "    {\n",
    "        \"id\": 3,\n",
    "        \"frameworks\": \"Web2Py\",\n",
    "        \"year\": 2007\n",
    "    }\n",
    "]\n",
    "empty = []"
   ]
  },
  {
   "cell_type": "code",
   "execution_count": 60,
   "id": "thermal-spectacular",
   "metadata": {},
   "outputs": [
    {
     "name": "stdout",
     "output_type": "stream",
     "text": [
      " * Serving Flask app \"__main__\" (lazy loading)\n",
      " * Environment: production\n",
      "   WARNING: This is a development server. Do not use it in a production deployment.\n",
      "   Use a production WSGI server instead.\n",
      " * Debug mode: on\n"
     ]
    },
    {
     "name": "stderr",
     "output_type": "stream",
     "text": [
      " * Restarting with stat\n"
     ]
    },
    {
     "ename": "SystemExit",
     "evalue": "1",
     "output_type": "error",
     "traceback": [
      "An exception has occurred, use %tb to see the full traceback.\n",
      "\u001b[1;31mSystemExit\u001b[0m\u001b[1;31m:\u001b[0m 1\n"
     ]
    },
    {
     "name": "stderr",
     "output_type": "stream",
     "text": [
      "c:\\users\\sutinee\\appdata\\local\\programs\\python\\python39\\lib\\site-packages\\IPython\\core\\interactiveshell.py:3445: UserWarning: To exit: use 'exit', 'quit', or Ctrl-D.\n",
      "  warn(\"To exit: use 'exit', 'quit', or Ctrl-D.\", stacklevel=1)\n"
     ]
    }
   ],
   "source": [
    "app = Flask(__name__)\n",
    "CORS(app)\n",
    "\n",
    "@app.route('/')\n",
    "def home():\n",
    "    return \"Hello World\"\n",
    "\n",
    "\n",
    "@app.route('/api', methods=['GET'])\n",
    "def get_api():\n",
    "    return jsonify(data)  # Return web frameworks information\n",
    "\n",
    "@app.route('/api/getCourses', methods=['GET'])\n",
    "def get_api_courses():\n",
    "    res = recsys_v1.getCourses()\n",
    "    res = recsys_v1.getJsonData(res)\n",
    "    return jsonify(res)\n",
    "\n",
    "@app.route('/api/recommend1', methods=['GET'])\n",
    "def get_api_recommend1():\n",
    "    try:\n",
    "        search = request.args.get(\"search\")\n",
    "        if search == None:\n",
    "            return jsonify(empty)\n",
    "        if search == '':\n",
    "            return jsonify(empty)\n",
    "        res = recsys_v1.recommend1(search)\n",
    "        res = recsys_v1.getJsonData(res)\n",
    "        return jsonify(res)\n",
    "    except:    \n",
    "        return jsonify(empty)\n",
    "\n",
    "@app.route('/api/recommend2', methods=['GET'])\n",
    "def get_api_recommend2():\n",
    "    try:\n",
    "        search = request.args.get(\"search\")\n",
    "        if search == None:\n",
    "            return jsonify(empty)\n",
    "        if search == '':\n",
    "            return jsonify(empty)\n",
    "        res = recsys_v1.recommend2(search)\n",
    "        res = recsys_v1.getJsonData(res)\n",
    "        return jsonify(res)\n",
    "    except:    \n",
    "        return jsonify(empty)\n",
    "\n",
    "if __name__ == \"__main__\":\n",
    "    app.run(debug=True)"
   ]
  }
 ],
 "metadata": {
  "kernelspec": {
   "display_name": "Python 3",
   "language": "python",
   "name": "python3"
  },
  "language_info": {
   "codemirror_mode": {
    "name": "ipython",
    "version": 3
   },
   "file_extension": ".py",
   "mimetype": "text/x-python",
   "name": "python",
   "nbconvert_exporter": "python",
   "pygments_lexer": "ipython3",
   "version": "3.9.2"
  }
 },
 "nbformat": 4,
 "nbformat_minor": 5
}
